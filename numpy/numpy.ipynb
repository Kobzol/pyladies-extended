{
 "cells": [
  {
   "cell_type": "code",
   "execution_count": 2,
   "id": "sufficient-simulation",
   "metadata": {},
   "outputs": [],
   "source": [
    "import numpy as np"
   ]
  },
  {
   "cell_type": "code",
   "execution_count": 6,
   "id": "linear-great",
   "metadata": {},
   "outputs": [
    {
     "data": {
      "text/plain": [
       "array([[0.71376773, 0.0499848 , 0.28421609],\n",
       "       [0.70624006, 0.22722989, 0.24043159],\n",
       "       [0.51547876, 0.11289273, 0.13775371]])"
      ]
     },
     "execution_count": 6,
     "metadata": {},
     "output_type": "execute_result"
    }
   ],
   "source": [
    "# Vytvoření pole (z Pythonovského seznamu\n",
    "a = np.array([1, 2, 3, 4])\n",
    "\n",
    "# Vytvoření pole nul s daným tvarem\n",
    "b = np.zeros((3, 3))\n",
    "\n",
    "# Vytvoření pole jedniček s daným tvarem\n",
    "c = np.ones((2, 4))\n",
    "\n",
    "# Vytvoření pole náhodných čísel s daným tvarem\n",
    "d = np.random.rand(3, 3)"
   ]
  },
  {
   "cell_type": "code",
   "execution_count": 7,
   "id": "received-conviction",
   "metadata": {},
   "outputs": [
    {
     "name": "stdout",
     "output_type": "stream",
     "text": [
      "int64\n",
      "float32\n"
     ]
    }
   ],
   "source": [
    "# Vypsání datového typu\n",
    "a = np.array([1, 2, 3])\n",
    "print(a.dtype)\n",
    "\n",
    "# Změna datového typu\n",
    "b = a.astype(np.float32)\n",
    "print(b.dtype)"
   ]
  },
  {
   "cell_type": "code",
   "execution_count": 11,
   "id": "bigger-terrorism",
   "metadata": {},
   "outputs": [
    {
     "name": "stdout",
     "output_type": "stream",
     "text": [
      "(4,)\n",
      "(2, 2)\n",
      "(2, 2)\n"
     ]
    }
   ],
   "source": [
    "# Vypsání tvaru\n",
    "a = np.array([1, 2, 3, 4])\n",
    "print(a.shape)\n",
    "\n",
    "# Změna tvaru\n",
    "b = a.reshape((2, 2))\n",
    "print(b.shape)\n",
    "c = np.array([[1, 2], [3, 4]])\n",
    "print(c.shape)"
   ]
  },
  {
   "cell_type": "code",
   "execution_count": 13,
   "id": "boxed-welsh",
   "metadata": {},
   "outputs": [],
   "source": [
    "a = np.array([\n",
    "    [1, 2, 3],\n",
    "    [4, 5, 6],\n",
    "    [7, 8, 9]\n",
    "])"
   ]
  },
  {
   "cell_type": "code",
   "execution_count": 15,
   "id": "seeing-fashion",
   "metadata": {},
   "outputs": [
    {
     "data": {
      "text/plain": [
       "array([1, 2, 3])"
      ]
     },
     "execution_count": 15,
     "metadata": {},
     "output_type": "execute_result"
    }
   ],
   "source": [
    "# První řádek\n",
    "a[0]"
   ]
  },
  {
   "cell_type": "code",
   "execution_count": 16,
   "id": "crucial-teach",
   "metadata": {},
   "outputs": [
    {
     "data": {
      "text/plain": [
       "array([4, 5, 6])"
      ]
     },
     "execution_count": 16,
     "metadata": {},
     "output_type": "execute_result"
    }
   ],
   "source": [
    "# Druhý řádek\n",
    "a[1]"
   ]
  },
  {
   "cell_type": "code",
   "execution_count": 18,
   "id": "complex-oasis",
   "metadata": {},
   "outputs": [
    {
     "data": {
      "text/plain": [
       "1"
      ]
     },
     "execution_count": 18,
     "metadata": {},
     "output_type": "execute_result"
    }
   ],
   "source": [
    "# Prvek na prvním řádku, prvním sloupci\n",
    "a[0, 0]"
   ]
  },
  {
   "cell_type": "code",
   "execution_count": 20,
   "id": "intermediate-bacteria",
   "metadata": {},
   "outputs": [
    {
     "data": {
      "text/plain": [
       "5"
      ]
     },
     "execution_count": 20,
     "metadata": {},
     "output_type": "execute_result"
    }
   ],
   "source": [
    "# Prvek na druhém řádku, druhém sloupci\n",
    "a[1, 1]"
   ]
  },
  {
   "cell_type": "code",
   "execution_count": 21,
   "id": "dominant-bradley",
   "metadata": {},
   "outputs": [
    {
     "data": {
      "text/plain": [
       "array([7, 8, 9])"
      ]
     },
     "execution_count": 21,
     "metadata": {},
     "output_type": "execute_result"
    }
   ],
   "source": [
    "# Poslední řádek\n",
    "a[-1]"
   ]
  },
  {
   "cell_type": "code",
   "execution_count": 40,
   "id": "literary-launch",
   "metadata": {},
   "outputs": [
    {
     "data": {
      "text/plain": [
       "array([1, 4, 7])"
      ]
     },
     "execution_count": 40,
     "metadata": {},
     "output_type": "execute_result"
    }
   ],
   "source": [
    "# První sloupec\n",
    "a[:, 0]"
   ]
  },
  {
   "cell_type": "code",
   "execution_count": 42,
   "id": "sophisticated-reading",
   "metadata": {},
   "outputs": [
    {
     "data": {
      "text/plain": [
       "array([[5, 6],\n",
       "       [8, 9]])"
      ]
     },
     "execution_count": 42,
     "metadata": {},
     "output_type": "execute_result"
    }
   ],
   "source": [
    "# Všechny řádky kromě prvního, všechny sloupce kromě prvního\n",
    "a[1:, 1:]"
   ]
  },
  {
   "cell_type": "code",
   "execution_count": 43,
   "id": "recognized-amber",
   "metadata": {},
   "outputs": [
    {
     "data": {
      "text/plain": [
       "array([2, 5, 8])"
      ]
     },
     "execution_count": 43,
     "metadata": {},
     "output_type": "execute_result"
    }
   ],
   "source": [
    "# (Všechny řádky), druhý sloupec\n",
    "a[..., 1]"
   ]
  },
  {
   "cell_type": "code",
   "execution_count": 32,
   "id": "smart-wallet",
   "metadata": {},
   "outputs": [
    {
     "data": {
      "text/plain": [
       "array([6, 7])"
      ]
     },
     "execution_count": 32,
     "metadata": {},
     "output_type": "execute_result"
    }
   ],
   "source": [
    "# Prvky na souřadnicích (1, 2), (2, 0)\n",
    "a[(1, 2), (2, 0)]"
   ]
  },
  {
   "cell_type": "code",
   "execution_count": 36,
   "id": "regional-murder",
   "metadata": {},
   "outputs": [
    {
     "data": {
      "text/plain": [
       "array([6, 7])"
      ]
     },
     "execution_count": 36,
     "metadata": {},
     "output_type": "execute_result"
    }
   ],
   "source": [
    "a[[1, 2], [2, 0]]"
   ]
  },
  {
   "cell_type": "code",
   "execution_count": 145,
   "id": "headed-research",
   "metadata": {},
   "outputs": [
    {
     "data": {
      "text/plain": [
       "array([[1, 2, 3],\n",
       "       [9, 6, 7],\n",
       "       [4, 8, 5]])"
      ]
     },
     "execution_count": 145,
     "metadata": {},
     "output_type": "execute_result"
    }
   ],
   "source": [
    "# První, třetí a druhý řádek\n",
    "a[[0, 2, 1]]"
   ]
  },
  {
   "cell_type": "code",
   "execution_count": 51,
   "id": "frozen-sailing",
   "metadata": {},
   "outputs": [
    {
     "data": {
      "text/plain": [
       "array([[1, 5, 3],\n",
       "       [4, 5, 6],\n",
       "       [7, 8, 9]])"
      ]
     },
     "execution_count": 51,
     "metadata": {},
     "output_type": "execute_result"
    }
   ],
   "source": [
    "# Přiřazení na pozici\n",
    "a = np.array([1, 2, 3, 4, 5, 6, 7, 8, 9]).reshape((3, 3))\n",
    "a[0, 1] = 5\n",
    "a"
   ]
  },
  {
   "cell_type": "code",
   "execution_count": 53,
   "id": "later-angle",
   "metadata": {},
   "outputs": [
    {
     "data": {
      "text/plain": [
       "array([[5, 5, 5],\n",
       "       [4, 5, 6],\n",
       "       [7, 8, 9]])"
      ]
     },
     "execution_count": 53,
     "metadata": {},
     "output_type": "execute_result"
    }
   ],
   "source": [
    "# Přiřazení sloupce\n",
    "a = np.array([1, 2, 3, 4, 5, 6, 7, 8, 9]).reshape((3, 3))\n",
    "a[0, :] = 5\n",
    "a"
   ]
  },
  {
   "cell_type": "code",
   "execution_count": 56,
   "id": "dietary-cowboy",
   "metadata": {},
   "outputs": [
    {
     "data": {
      "text/plain": [
       "array([[5, 3, 4],\n",
       "       [4, 5, 6],\n",
       "       [7, 8, 9]])"
      ]
     },
     "execution_count": 56,
     "metadata": {},
     "output_type": "execute_result"
    }
   ],
   "source": [
    "a = np.array([1, 2, 3, 4, 5, 6, 7, 8, 9]).reshape((3, 3))\n",
    "a[0, :] = [5, 3, 4]\n",
    "a"
   ]
  },
  {
   "cell_type": "code",
   "execution_count": 57,
   "id": "possible-candle",
   "metadata": {},
   "outputs": [
    {
     "data": {
      "text/plain": [
       "array([[1, 4, 7],\n",
       "       [4, 5, 6],\n",
       "       [7, 8, 9]])"
      ]
     },
     "execution_count": 57,
     "metadata": {},
     "output_type": "execute_result"
    }
   ],
   "source": [
    "a = np.array([1, 2, 3, 4, 5, 6, 7, 8, 9]).reshape((3, 3))\n",
    "a[0, :] = a[:, 0]\n",
    "a"
   ]
  },
  {
   "cell_type": "code",
   "execution_count": 91,
   "id": "neither-slave",
   "metadata": {
    "collapsed": false,
    "jupyter": {
     "outputs_hidden": false
    },
    "pycharm": {
     "name": "#%%\n"
    }
   },
   "outputs": [],
   "source": [
    "a = np.array([1, 2, 3, 4, 5, 6, 7, 8, 9]).reshape((3, 3))"
   ]
  },
  {
   "cell_type": "code",
   "execution_count": 74,
   "id": "engaged-accused",
   "metadata": {},
   "outputs": [
    {
     "data": {
      "text/plain": [
       "array([6, 7, 8, 9])"
      ]
     },
     "execution_count": 74,
     "metadata": {},
     "output_type": "execute_result"
    }
   ],
   "source": [
    "# Hodnoty větší než pět\n",
    "a[a > 5]"
   ]
  },
  {
   "cell_type": "code",
   "execution_count": 76,
   "id": "geological-baking",
   "metadata": {},
   "outputs": [
    {
     "data": {
      "text/plain": [
       "(array([1, 2, 2, 2]), array([2, 0, 1, 2]))"
      ]
     },
     "execution_count": 76,
     "metadata": {},
     "output_type": "execute_result"
    }
   ],
   "source": [
    "np.where(a > 5)"
   ]
  },
  {
   "cell_type": "code",
   "execution_count": 96,
   "id": "broadband-screening",
   "metadata": {},
   "outputs": [],
   "source": [
    "a = np.array([1, 2, 3, 4])\n",
    "b = np.array([2, 3, 4, 5])"
   ]
  },
  {
   "cell_type": "code",
   "execution_count": 98,
   "id": "preliminary-humidity",
   "metadata": {},
   "outputs": [
    {
     "data": {
      "text/plain": [
       "array([3, 5, 7, 9])"
      ]
     },
     "execution_count": 98,
     "metadata": {},
     "output_type": "execute_result"
    }
   ],
   "source": [
    "# Sečtení dvou polí\n",
    "a + b"
   ]
  },
  {
   "cell_type": "code",
   "execution_count": 100,
   "id": "usual-north",
   "metadata": {},
   "outputs": [
    {
     "data": {
      "text/plain": [
       "array([2, 3, 4, 5])"
      ]
     },
     "execution_count": 100,
     "metadata": {},
     "output_type": "execute_result"
    }
   ],
   "source": [
    "# Sečtení pole a čísla\n",
    "a + 1"
   ]
  },
  {
   "cell_type": "code",
   "execution_count": 102,
   "id": "israeli-charles",
   "metadata": {},
   "outputs": [
    {
     "data": {
      "text/plain": [
       "array([2, 4, 6, 8])"
      ]
     },
     "execution_count": 102,
     "metadata": {},
     "output_type": "execute_result"
    }
   ],
   "source": [
    "a * 2"
   ]
  },
  {
   "cell_type": "code",
   "execution_count": 108,
   "id": "convinced-liechtenstein",
   "metadata": {},
   "outputs": [
    {
     "data": {
      "text/plain": [
       "array([[0, 1, 2],\n",
       "       [1, 2, 3],\n",
       "       [2, 3, 4]])"
      ]
     },
     "execution_count": 108,
     "metadata": {},
     "output_type": "execute_result"
    }
   ],
   "source": [
    "# Broadcasting\n",
    "a = np.array([0, 1, 2]).reshape((1, 3))\n",
    "b = np.array([0, 1, 2]).reshape((3, 1))\n",
    "a + b"
   ]
  },
  {
   "cell_type": "markdown",
   "id": "right-beatles",
   "metadata": {},
   "source": [
    "![](imgs/broadcast.png)"
   ]
  },
  {
   "cell_type": "code",
   "execution_count": 141,
   "id": "other-pittsburgh",
   "metadata": {
    "collapsed": false,
    "jupyter": {
     "outputs_hidden": false
    },
    "pycharm": {
     "name": "#%%\n"
    }
   },
   "outputs": [],
   "source": [
    "# np.sum, np.concatenate\n",
    "a = np.array([\n",
    "    [1, 2, 3],\n",
    "    [4, 8, 5],\n",
    "    [9, 6, 7]\n",
    "])"
   ]
  },
  {
   "cell_type": "code",
   "execution_count": 117,
   "id": "removable-sweden",
   "metadata": {},
   "outputs": [
    {
     "data": {
      "text/plain": [
       "45"
      ]
     },
     "execution_count": 117,
     "metadata": {},
     "output_type": "execute_result"
    }
   ],
   "source": [
    "np.sum(a)"
   ]
  },
  {
   "cell_type": "code",
   "execution_count": 118,
   "id": "exposed-woman",
   "metadata": {},
   "outputs": [
    {
     "data": {
      "text/plain": [
       "array([12, 15, 18])"
      ]
     },
     "execution_count": 118,
     "metadata": {},
     "output_type": "execute_result"
    }
   ],
   "source": [
    "np.sum(a, axis=0)"
   ]
  },
  {
   "cell_type": "code",
   "execution_count": 128,
   "id": "introductory-spread",
   "metadata": {},
   "outputs": [
    {
     "data": {
      "text/plain": [
       "array([ 6, 15, 24])"
      ]
     },
     "execution_count": 128,
     "metadata": {},
     "output_type": "execute_result"
    }
   ],
   "source": [
    "np.sum(a, axis=1)"
   ]
  },
  {
   "cell_type": "code",
   "execution_count": 130,
   "id": "celtic-decrease",
   "metadata": {},
   "outputs": [
    {
     "data": {
      "text/plain": [
       "9"
      ]
     },
     "execution_count": 130,
     "metadata": {},
     "output_type": "execute_result"
    }
   ],
   "source": [
    "np.max(a)"
   ]
  },
  {
   "cell_type": "code",
   "execution_count": 144,
   "id": "normal-shareware",
   "metadata": {},
   "outputs": [
    {
     "data": {
      "text/plain": [
       "array([[9, 6, 7],\n",
       "       [4, 8, 5],\n",
       "       [1, 2, 3]])"
      ]
     },
     "execution_count": 144,
     "metadata": {},
     "output_type": "execute_result"
    }
   ],
   "source": [
    "np.argmax(a, axis=1)"
   ]
  },
  {
   "cell_type": "code",
   "execution_count": 124,
   "id": "worse-testing",
   "metadata": {},
   "outputs": [
    {
     "data": {
      "text/plain": [
       "array([[1, 2, 3],\n",
       "       [4, 5, 6],\n",
       "       [7, 8, 9],\n",
       "       [1, 2, 3],\n",
       "       [4, 5, 6],\n",
       "       [7, 8, 9]])"
      ]
     },
     "execution_count": 124,
     "metadata": {},
     "output_type": "execute_result"
    }
   ],
   "source": [
    "np.concatenate([\n",
    "    a,\n",
    "    a\n",
    "], axis=0)"
   ]
  },
  {
   "cell_type": "code",
   "execution_count": 126,
   "id": "received-solomon",
   "metadata": {},
   "outputs": [
    {
     "data": {
      "text/plain": [
       "array([[1, 2, 3, 1, 2, 3],\n",
       "       [4, 5, 6, 4, 5, 6],\n",
       "       [7, 8, 9, 7, 8, 9]])"
      ]
     },
     "execution_count": 126,
     "metadata": {},
     "output_type": "execute_result"
    }
   ],
   "source": [
    "np.concatenate([\n",
    "    a,\n",
    "    a\n",
    "], axis=1)"
   ]
  }
 ],
 "metadata": {
  "kernelspec": {
   "display_name": "Python 3",
   "language": "python",
   "name": "python3"
  },
  "language_info": {
   "codemirror_mode": {
    "name": "ipython",
    "version": 3
   },
   "file_extension": ".py",
   "mimetype": "text/x-python",
   "name": "python",
   "nbconvert_exporter": "python",
   "pygments_lexer": "ipython3",
   "version": "3.8.5"
  }
 },
 "nbformat": 4,
 "nbformat_minor": 5
}