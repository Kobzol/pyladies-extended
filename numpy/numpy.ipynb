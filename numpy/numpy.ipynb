{
 "cells": [
  {
   "cell_type": "code",
   "execution_count": 11,
   "id": "latest-tuesday",
   "metadata": {},
   "outputs": [],
   "source": [
    "import numpy as np"
   ]
  },
  {
   "cell_type": "code",
   "execution_count": 2,
   "id": "forced-colony",
   "metadata": {},
   "outputs": [],
   "source": [
    "# array creation (from Python list, ones, zeros, random)"
   ]
  },
  {
   "cell_type": "code",
   "execution_count": 3,
   "id": "legislative-focus",
   "metadata": {},
   "outputs": [],
   "source": [
    "# dtype, astype"
   ]
  },
  {
   "cell_type": "code",
   "execution_count": 4,
   "id": "surrounded-heart",
   "metadata": {},
   "outputs": [],
   "source": [
    "# shape"
   ]
  },
  {
   "cell_type": "code",
   "execution_count": 5,
   "id": "induced-england",
   "metadata": {},
   "outputs": [],
   "source": [
    "# indexing, :, tuple indexing, list indexing"
   ]
  },
  {
   "cell_type": "code",
   "execution_count": null,
   "id": "global-pricing",
   "metadata": {},
   "outputs": [],
   "source": [
    "# assignments"
   ]
  },
  {
   "cell_type": "code",
   "execution_count": null,
   "outputs": [],
   "source": [
    "# filtering (logical operations, bit logical operations)"
   ],
   "metadata": {
    "collapsed": false,
    "pycharm": {
     "name": "#%%\n"
    }
   }
  },
  {
   "cell_type": "code",
   "execution_count": 6,
   "id": "naughty-blake",
   "metadata": {},
   "outputs": [],
   "source": [
    "# array operations"
   ]
  },
  {
   "cell_type": "code",
   "execution_count": 7,
   "id": "revised-labor",
   "metadata": {},
   "outputs": [],
   "source": [
    "# broadcasting\n",
    "![](imgs/broadcast.png)"
   ]
  },
  {
   "cell_type": "code",
   "execution_count": 8,
   "id": "chronic-butter",
   "metadata": {},
   "outputs": [],
   "source": [
    "# reshaping"
   ]
  },
  {
   "cell_type": "code",
   "execution_count": null,
   "outputs": [],
   "source": [
    "# np.sum, np.concat\n",
    "# views, copying, contiguous memory"
   ],
   "metadata": {
    "collapsed": false,
    "pycharm": {
     "name": "#%%\n"
    }
   }
  }
 ],
 "metadata": {
  "kernelspec": {
   "display_name": "Python 3",
   "language": "python",
   "name": "python3"
  },
  "language_info": {
   "codemirror_mode": {
    "name": "ipython",
    "version": 3
   },
   "file_extension": ".py",
   "mimetype": "text/x-python",
   "name": "python",
   "nbconvert_exporter": "python",
   "pygments_lexer": "ipython3",
   "version": "3.8.5"
  }
 },
 "nbformat": 4,
 "nbformat_minor": 5
}