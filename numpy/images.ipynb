{
 "cells": [
  {
   "cell_type": "code",
   "execution_count": 22,
   "id": "turned-captain",
   "metadata": {},
   "outputs": [],
   "source": [
    "import numpy as np\n",
    "from matplotlib import pyplot as plt\n",
    "\n",
    "def display(img):\n",
    "    plt.imshow(img)\n",
    "    plt.axis('off')\n",
    "    return plt.show()"
   ]
  },
  {
   "cell_type": "code",
   "execution_count": 94,
   "id": "massive-bottom",
   "metadata": {},
   "outputs": [],
   "source": [
    "img = np.load(\"data/pyladies.npy\")"
   ]
  },
  {
   "cell_type": "code",
   "execution_count": 95,
   "id": "inner-dollar",
   "metadata": {},
   "outputs": [
    {
     "data": {
      "image/png": "[encoded data removed]",
      "text/plain": [
       "<Figure size 432x288 with 1 Axes>"
      ]
     },
     "metadata": {
      "needs_background": "light"
     },
     "output_type": "display_data"
    }
   ],
   "source": [
    "display(img)"
   ]
  },
  {
   "cell_type": "code",
   "execution_count": 105,
   "id": "listed-triangle",
   "metadata": {},
   "outputs": [
    {
     "data": {
      "image/png": "[encoded data removed]",
      "text/plain": [
       "<Figure size 432x288 with 1 Axes>"
      ]
     },
     "metadata": {
      "needs_background": "light"
     },
     "output_type": "display_data"
    }
   ],
   "source": [
    "display(img[20:50])"
   ]
  },
  {
   "cell_type": "code",
   "execution_count": 107,
   "id": "gorgeous-guitar",
   "metadata": {},
   "outputs": [
    {
     "data": {
      "image/png": "[encoded data removed]",
      "text/plain": [
       "<Figure size 432x288 with 1 Axes>"
      ]
     },
     "metadata": {
      "needs_background": "light"
     },
     "output_type": "display_data"
    }
   ],
   "source": [
    "display(img[:,20:50])"
   ]
  },
  {
   "cell_type": "code",
   "execution_count": 110,
   "id": "subsequent-vampire",
   "metadata": {},
   "outputs": [
    {
     "data": {
      "image/png": "[encoded data removed]",
      "text/plain": [
       "<Figure size 432x288 with 1 Axes>"
      ]
     },
     "metadata": {
      "needs_background": "light"
     },
     "output_type": "display_data"
    }
   ],
   "source": [
    "display(img[:,96:192])"
   ]
  },
  {
   "cell_type": "code",
   "execution_count": 96,
   "id": "lesbian-network",
   "metadata": {
    "tags": []
   },
   "outputs": [
    {
     "data": {
      "image/png": "[encoded data removed]",
      "text/plain": [
       "<Figure size 432x288 with 1 Axes>"
      ]
     },
     "metadata": {
      "needs_background": "light"
     },
     "output_type": "display_data"
    }
   ],
   "source": [
    "# BW conversion\n",
    "bw_sum = img.astype(np.float32)\n",
    "bw_sum = np.sum(img, axis=2)\n",
    "bw_sum = bw_sum / 3\n",
    "bw_sum = np.expand_dims(bw_sum, axis=2)\n",
    "bw_sum = np.concatenate((bw_sum, bw_sum, bw_sum), axis=2)\n",
    "bw_sum = bw_sum.astype(img.dtype)\n",
    "display(bw_sum)"
   ]
  },
  {
   "cell_type": "code",
   "execution_count": null,
   "outputs": [],
   "source": [
    "# Dát obrázek pod sebe?"
   ],
   "metadata": {
    "collapsed": false,
    "pycharm": {
     "name": "#%%\n"
    }
   }
  }
 ],
 "metadata": {
  "kernelspec": {
   "display_name": "Python 3",
   "language": "python",
   "name": "python3"
  },
  "language_info": {
   "codemirror_mode": {
    "name": "ipython",
    "version": 3
   },
   "file_extension": ".py",
   "mimetype": "text/x-python",
   "name": "python",
   "nbconvert_exporter": "python",
   "pygments_lexer": "ipython3",
   "version": "3.8.5"
  }
 },
 "nbformat": 4,
 "nbformat_minor": 5
}