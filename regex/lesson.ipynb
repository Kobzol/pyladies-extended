{
 "cells": [
  {
   "cell_type": "code",
   "execution_count": 5,
   "id": "returning-logan",
   "metadata": {},
   "outputs": [],
   "source": [
    "import re"
   ]
  },
  {
   "cell_type": "code",
   "execution_count": 149,
   "id": "rental-rally",
   "metadata": {},
   "outputs": [
    {
     "data": {
      "text/plain": [
       "<re.Match object; span=(0, 9), match='123456789'>"
      ]
     },
     "execution_count": 149,
     "metadata": {},
     "output_type": "execute_result"
    }
   ],
   "source": [
    "# \\d -> libovolnou číslici [0-9]\n",
    "# \\w -> libovolný znak slova [a-zA-Z0-9_]\n",
    "# \\s -> bílé znaky [ \\n\\t\\r]\n",
    "# . -> \"cokoliv\" (kromě odřádkování \\n)\n",
    "# ? -> 0x nebo 1x\n",
    "# * -> 0x - nekonečno\n",
    "# + -> 1x - nekonečno\n",
    "# | -> \"nebo\" (alternace)\n",
    "# (...) -> vytáhnutí dat z textu + uzávorkování podvýrazů\n",
    "# ^ -> začátek řetězce\n",
    "# $ -> konec řetězce\n",
    "re.search(r\"\\d{3}\\s*\\d{3}\\s*\\d{3}\", \"123456789\")"
   ]
  },
  {
   "cell_type": "code",
   "execution_count": 154,
   "id": "olympic-change",
   "metadata": {},
   "outputs": [],
   "source": [
    "text = \"2) Segedínský guláš (160,- Kč)\"\n",
    "m = re.search(r\"(\\d+)\\)\\s*(.*)\\((\\d+),- Kč\\)\", text)"
   ]
  },
  {
   "cell_type": "code",
   "execution_count": 159,
   "id": "square-sleeve",
   "metadata": {},
   "outputs": [],
   "source": [
    "text = \"jan.novak@seznam.cz\"\n",
    "m = re.search(r\"([a-zA-Z0-9._-]+)@([a-zA-Z0-9._-]+)\\.([a-zA-Z]{2,3})\", text)"
   ]
  },
  {
   "cell_type": "code",
   "execution_count": 160,
   "id": "scenic-geology",
   "metadata": {},
   "outputs": [
    {
     "ename": "AttributeError",
     "evalue": "'NoneType' object has no attribute 'groups'",
     "output_type": "error",
     "traceback": [
      "\u001b[0;31m---------------------------------------------------------------------------\u001b[0m",
      "\u001b[0;31mAttributeError\u001b[0m                            Traceback (most recent call last)",
      "\u001b[0;32m<ipython-input-160-3d2ff5d12a83>\u001b[0m in \u001b[0;36m<module>\u001b[0;34m\u001b[0m\n\u001b[0;32m----> 1\u001b[0;31m \u001b[0mm\u001b[0m\u001b[0;34m.\u001b[0m\u001b[0mgroups\u001b[0m\u001b[0;34m(\u001b[0m\u001b[0;34m)\u001b[0m\u001b[0;34m\u001b[0m\u001b[0;34m\u001b[0m\u001b[0m\n\u001b[0m",
      "\u001b[0;31mAttributeError\u001b[0m: 'NoneType' object has no attribute 'groups'"
     ]
    }
   ],
   "source": [
    "m.groups()"
   ]
  },
  {
   "cell_type": "code",
   "execution_count": 123,
   "id": "informal-plaintiff",
   "metadata": {},
   "outputs": [],
   "source": [
    "# Tento regulární výraz parsuje telefonní čísla\n",
    "m = re.search(r\"\\+(\\d{2,3})\\s*(\\d{3})\\s*(\\d{3})\\s*(\\d{3})\", \"+420 123    456   789\")"
   ]
  },
  {
   "cell_type": "code",
   "execution_count": 125,
   "id": "medium-conditions",
   "metadata": {},
   "outputs": [
    {
     "data": {
      "text/plain": [
       "('420', '123', '456', '789')"
      ]
     },
     "execution_count": 125,
     "metadata": {},
     "output_type": "execute_result"
    }
   ],
   "source": [
    "m.groups()"
   ]
  },
  {
   "cell_type": "code",
   "execution_count": 148,
   "id": "legendary-mouth",
   "metadata": {},
   "outputs": [
    {
     "data": {
      "text/plain": [
       "'avb17s2d3k5j'"
      ]
     },
     "execution_count": 148,
     "metadata": {},
     "output_type": "execute_result"
    }
   ],
   "source": [
    "re.sub(r\"(\\d)(\\d)\", r\"\\2\\1\", \"avb71s2d3k5j\")\n",
    "# 71 -> (7)(1)"
   ]
  },
  {
   "cell_type": "code",
   "execution_count": 139,
   "id": "applicable-orleans",
   "metadata": {},
   "outputs": [
    {
     "name": "stdout",
     "output_type": "stream",
     "text": [
      "<re.Match object; span=(1, 3), match='ab'>\n",
      "<re.Match object; span=(0, 2), match='ab'>\n",
      "<re.Match object; span=(0, 2), match='ab'>\n"
     ]
    }
   ],
   "source": [
    "print(re.search(r\"ab\", \"xaby\"))\n",
    "print(re.match(r\"ab\", \"aby\"))    # match ^<...>\n",
    "print(re.fullmatch(r\"ab\", \"ab\")) # fullmatch ^<...>$"
   ]
  },
  {
   "cell_type": "code",
   "execution_count": 141,
   "id": "eight-external",
   "metadata": {},
   "outputs": [
    {
     "name": "stdout",
     "output_type": "stream",
     "text": [
      "None\n",
      "<re.Match object; span=(0, 3), match='a\\nx'>\n"
     ]
    }
   ],
   "source": [
    "# modes\n",
    "print(re.match(\"a.*x\", \"a\\nx\"))\n",
    "print(re.match(\"a.*x\", \"a\\nx\", re.DOTALL))"
   ]
  },
  {
   "cell_type": "code",
   "execution_count": 142,
   "id": "forty-insider",
   "metadata": {},
   "outputs": [
    {
     "name": "stdout",
     "output_type": "stream",
     "text": [
      "None\n",
      "<re.Match object; span=(4, 5), match='a'>\n"
     ]
    }
   ],
   "source": [
    "print(re.search(\"^a\", \"x\\ny\\na\"))\n",
    "print(re.search(\"^a\", \"x\\ny\\na\", re.MULTILINE))"
   ]
  },
  {
   "cell_type": "code",
   "execution_count": 143,
   "id": "genuine-diabetes",
   "metadata": {},
   "outputs": [
    {
     "name": "stdout",
     "output_type": "stream",
     "text": [
      "None\n",
      "<re.Match object; span=(0, 1), match='A'>\n"
     ]
    }
   ],
   "source": [
    "print(re.search(\"a\", \"A\"))\n",
    "print(re.search(\"a\", \"A\", re.IGNORECASE))"
   ]
  },
  {
   "cell_type": "code",
   "execution_count": 3,
   "id": "western-partnership",
   "metadata": {},
   "outputs": [],
   "source": [
    "# 1) Vyhledávání/kontrola"
   ]
  },
  {
   "cell_type": "code",
   "execution_count": 4,
   "id": "lesbian-bread",
   "metadata": {},
   "outputs": [],
   "source": [
    "# 2) Získání dat z textu"
   ]
  },
  {
   "cell_type": "code",
   "execution_count": null,
   "id": "inside-ministry",
   "metadata": {},
   "outputs": [],
   "source": [
    "# 3) Nahrazení v textu"
   ]
  }
 ],
 "metadata": {
  "kernelspec": {
   "display_name": "Python 3",
   "language": "python",
   "name": "python3"
  },
  "language_info": {
   "codemirror_mode": {
    "name": "ipython",
    "version": 3
   },
   "file_extension": ".py",
   "mimetype": "text/x-python",
   "name": "python",
   "nbconvert_exporter": "python",
   "pygments_lexer": "ipython3",
   "version": "3.8.5"
  }
 },
 "nbformat": 4,
 "nbformat_minor": 5
}
