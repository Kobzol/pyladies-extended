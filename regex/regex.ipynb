{
 "cells": [
  {
   "cell_type": "code",
   "execution_count": 71,
   "id": "temporal-combat",
   "metadata": {},
   "outputs": [],
   "source": [
    "# Resources\n",
    "# https://naucse.python.cz/2020/pyladies-ostrava-podzim-pokrocili/intro/regex/\n",
    "# https://regex101.com/\n",
    "# https://regexcrossword.com/"
   ]
  },
  {
   "cell_type": "code",
   "execution_count": 74,
   "id": "electoral-federation",
   "metadata": {},
   "outputs": [],
   "source": [
    "import re"
   ]
  },
  {
   "cell_type": "code",
   "execution_count": null,
   "id": "infinite-shakespeare",
   "metadata": {},
   "outputs": [],
   "source": [
    "# raw strings\n",
    "# character classes: [], [^], ., \\d, \\s, \\w\n",
    "# repeating: ?, +, *, {3}, {1,3},\n",
    "# alternation: |\n",
    "# capturing: (), (?P<name>), (?:), groups(), groupdict()\n",
    "# lookahead (?=), lookbehind (?<=)\n",
    "# boundaries: ^, $\n",
    "\n",
    "# match vs fullmatch vs search\n",
    "# re.findall()\n",
    "# re.split()\n",
    "\n",
    "# modes"
   ]
  },
  {
   "cell_type": "code",
   "execution_count": 26,
   "id": "cardiovascular-symphony",
   "metadata": {},
   "outputs": [],
   "source": [
    "# compile\n",
    "# r literal\n",
    "regex = re.compile(r\"(?P<name>\\d+)(\\w+)\")"
   ]
  },
  {
   "cell_type": "code",
   "execution_count": 72,
   "id": "hispanic-boating",
   "metadata": {},
   "outputs": [
    {
     "data": {
      "text/plain": [
       "{'name': '1'}"
      ]
     },
     "execution_count": 72,
     "metadata": {},
     "output_type": "execute_result"
    }
   ],
   "source": [
    "# capturing\n",
    "x = regex.match(\"1a3\")\n",
    "x.groupdict()"
   ]
  },
  {
   "cell_type": "code",
   "execution_count": 73,
   "id": "surface-circulation",
   "metadata": {},
   "outputs": [
    {
     "data": {
      "text/plain": [
       "<re.Match object; span=(0, 7), match='a@b.com'>"
      ]
     },
     "execution_count": 73,
     "metadata": {},
     "output_type": "execute_result"
    }
   ],
   "source": [
    "re.search(\"\\w@\\w.com\", \"a@b.com\")"
   ]
  },
  {
   "cell_type": "code",
   "execution_count": 62,
   "id": "unexpected-technology",
   "metadata": {},
   "outputs": [
    {
     "name": "stdout",
     "output_type": "stream",
     "text": [
      "<re.Match object; span=(0, 6), match='123aba'>\n",
      "<re.Match object; span=(0, 4), match='123a'>\n"
     ]
    }
   ],
   "source": [
    "print(re.match(\"(\\d)(.*)a\", \"123abab\"))  # greedy quantifier\n",
    "print(re.match(\"(\\d)(.*?)a\", \"123abab\")) # lazy quantifier"
   ]
  },
  {
   "cell_type": "code",
   "execution_count": 25,
   "id": "molecular-apple",
   "metadata": {},
   "outputs": [
    {
     "data": {
      "text/plain": [
       "'ahoj[1]'"
      ]
     },
     "execution_count": 25,
     "metadata": {},
     "output_type": "execute_result"
    }
   ],
   "source": [
    "# replacing\n",
    "re.sub(regex, r\"[\\1]\", \"ahoj1a3\")"
   ]
  },
  {
   "cell_type": "code",
   "execution_count": 65,
   "id": "geological-fiber",
   "metadata": {},
   "outputs": [
    {
     "name": "stdout",
     "output_type": "stream",
     "text": [
      "None\n",
      "<re.Match object; span=(0, 3), match='a\\nx'>\n"
     ]
    }
   ],
   "source": [
    "# modes\n",
    "print(re.match(\"a.*x\", \"a\\nx\"))\n",
    "print(re.match(\"a.*x\", \"a\\nx\", re.DOTALL))"
   ]
  },
  {
   "cell_type": "code",
   "execution_count": 69,
   "id": "found-simple",
   "metadata": {},
   "outputs": [
    {
     "name": "stdout",
     "output_type": "stream",
     "text": [
      "None\n",
      "<re.Match object; span=(4, 5), match='a'>\n"
     ]
    }
   ],
   "source": [
    "print(re.search(\"^a\", \"x\\ny\\na\"))\n",
    "print(re.search(\"^a\", \"x\\ny\\na\", re.MULTILINE))"
   ]
  },
  {
   "cell_type": "code",
   "execution_count": 70,
   "id": "adverse-packing",
   "metadata": {},
   "outputs": [
    {
     "name": "stdout",
     "output_type": "stream",
     "text": [
      "None\n",
      "<re.Match object; span=(0, 1), match='A'>\n"
     ]
    }
   ],
   "source": [
    "print(re.search(\"a\", \"A\"))\n",
    "print(re.search(\"a\", \"A\", re.IGNORECASE))"
   ]
  }
 ],
 "metadata": {
  "kernelspec": {
   "display_name": "Python 3",
   "language": "python",
   "name": "python3"
  },
  "language_info": {
   "codemirror_mode": {
    "name": "ipython",
    "version": 3
   },
   "file_extension": ".py",
   "mimetype": "text/x-python",
   "name": "python",
   "nbconvert_exporter": "python",
   "pygments_lexer": "ipython3",
   "version": "3.8.5"
  }
 },
 "nbformat": 4,
 "nbformat_minor": 5
}
